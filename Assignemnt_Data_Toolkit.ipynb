{
  "nbformat": 4,
  "nbformat_minor": 0,
  "metadata": {
    "colab": {
      "provenance": []
    },
    "kernelspec": {
      "name": "python3",
      "display_name": "Python 3"
    },
    "language_info": {
      "name": "python"
    }
  },
  "cells": [
    {
      "cell_type": "code",
      "execution_count": null,
      "metadata": {
        "id": "4Dp7g3WESrdI"
      },
      "outputs": [],
      "source": []
    },
    {
      "cell_type": "markdown",
      "source": [
        "1. What is NumPy, and why is it widely used in Python?\n",
        " - NumPy (short for Numerical Python) is a powerful open-source library in Python primarily used for numerical computing. It provides support for multi-dimensional arrays and matrices, along with a large collection of mathematical functions to operate on them efficiently.\n",
        "\n",
        "2. How does broadcasting work in NumPy?\n",
        " - Great question! Broadcasting is one of NumPy’s most powerful and useful features. It allows NumPy to perform element-wise operations on arrays of different shapes without explicitly copying data.\n",
        "\n",
        "3. What is a Pandas DataFrame?\n",
        " - A Pandas DataFrame is one of the most commonly used data structures in Python for working with tabular data — like a spreadsheet or a SQL table.\n",
        "\n",
        "4. Explain the use of the groupby() method in Pandas.\n",
        " - The groupby() method in Pandas is used to group rows in a DataFrame based on the values in one or more columns, and then apply a function to each group. It's super useful for summarizing and analyzing data.\n",
        "\n",
        "     Like sum, mean, count, etc.\n",
        "\n",
        "5. Why is Seaborn preferred for statistical visualizations?\n",
        " - Seaborn is often preferred for statistical visualizations in Python because it’s built specifically for exploring and understanding data relationships. It's built on top of Matplotlib, but adds a high-level, user-friendly interface for drawing attractive and informative plots with minimal code.\n",
        "\n",
        "6. What are the differences between NumPy arrays and Python lists?\n",
        " -  NumPy arrays and Python lists may look similar, but under the hood, they're quite different details given below -\n",
        "     - Numpy arrays is much faster but Python list is slower.\n",
        "     - Numpy arrays is more efficient (fixed data type) but Python list is Less efficient (dynamic typing)\n",
        "     - Numpy arrays All elements must be of the same type but Python list Can hold mixed types (int, str, etc.)\n",
        "\n",
        "7. What is a heatmap, and when should it be used?\n",
        " - A heatmap is a type of data visualization that uses color gradients to represent the magnitude of values in a matrix or 2D dataset.\n",
        "\n",
        "8. What does the term “vectorized operation” mean in NumPy?\n",
        " - NumPy, a vectorized operation means performing an operation on entire arrays (vectors, matrices, etc.) at once, without using explicit Python loops.\n",
        "\n",
        "9. How does Matplotlib differ from Plotly?\n",
        " - Matplotlib and Plotly are powerful Python libraries for data visualization, but they have different strengths and use cases details given below -\n",
        "    - Matplotlib is static plotting library but Plotly is Interactive plotting library.\n",
        "    - Matplotlib is minimal (can add basic events) but Plotly is fully interactive (zoom, hover, click)\n",
        "    - Matplotlib is scientific publications, static reports but Plotly is Dashboards, web apps, explorative analysis\n",
        "    - Matplotlib is scientific publications, static reports  but Plotly is dashboards, web apps, explorative analysis\n",
        "10. What is the significance of hierarchical indexing in Pandas?\n",
        "  - Hierarchical indexing (also called multi-level indexing) in Pandas is a powerful feature that allows you to have multiple index levels (rows or columns), enabling you to work with higher-dimensional data in a 2D format.\n",
        "\n",
        "11. What is the role of Seaborn’s pairplot() function?\n",
        "  - The pairplot() function in Seaborn is a powerful tool for exploratory data analysis (EDA). Its main role is to help you visually explore relationships between multiple numeric variables in a dataset — all in one go.\n",
        "\n",
        "12. What is the purpose of the describe() function in Pandas?\n",
        "  - The .describe() function in Pandas is used to generate quick summary statistics of your DataFrame or Series — making it an essential tool for exploratory data analysis (EDA).\n",
        "\n",
        "13. Why is handling missing data important in Pandas?\n",
        "  - Handling missing data in Pandas is crucial because missing values can seriously affect the accuracy, performance, and interpretability of your data analysis or machine learning models.\n",
        "\n",
        "14. What are the benefits of using Plotly for data visualization?\n",
        "  - Plotly is an awesome tool for data visualization, especially when you need interactivity, flexibility, and modern design. Here are the key benefits of using Plotly in Python:\n",
        "\n",
        "     -  Interactive Visualizations\n",
        "     -  Easy to Use\n",
        "     -  Wide Variety of Charts\n",
        "     -  Web-Ready and Responsive\n",
        "     -  Customizable and Extendable\n",
        "     -  Export Options\n",
        "\n",
        "15. How does NumPy handle multidimensional arrays?\n",
        "  - NumPy is specifically designed to handle multidimensional arrays (aka ndarrays) efficiently. These arrays are like super-powered lists that can be 1D (vectors), 2D (matrices), or nD (like tensors), and NumPy gives you tools to create, manipulate, and analyze them with ease.\n",
        "\n",
        "16. What is the role of Bokeh in data visualization?\n",
        "  - Bokeh is a powerful and flexible Python library for creating interactive, web-based data visualizations. Its main role is to bridge the gap between data science and the browser, allowing you to build rich visual interfaces and dashboards — all in Python.\n",
        "\n",
        "17.  Explain the difference between apply() and map() in Pandas.\n",
        "  - In Pandas, both .apply() and .map() are used to apply functions to data, but they work a bit differently and are suited for different are give below -\n",
        "\n",
        "       - map() is Series (1D) only but apply() is Series or DataFrame\n",
        "       - map() is function, dict, or Series but apply() is function\n",
        "       - map() is Transformed Series but apply() is Series or DataFrame (depending)\n",
        "\n",
        "18. What are some advanced features of NumPy?\n",
        "  - NumPy isn't just about basic arrays and math — it also has powerful advanced features that make it a go-to library for scientific computing and data analysis. Here's a list of some cool, advanced capabilities you should know about:\n",
        "             - Broadcasting\n",
        "             - Structured Arrays\n",
        "             - Vectorized Operations\n",
        "             - Fancy Indexing & Boolean Masking\n",
        "             - Linear Algebra Operations\n",
        "             - Memory Mapping for Large Files\n",
        "             - Broadcasting Tricks with np.newaxis and reshape\n",
        "             - Tiling and Repeating Arrays\n",
        "             - Custom Universal Functions (ufuncs)\n",
        "             - Masked Arrays\n",
        "\n",
        "19. How does Pandas simplify time series analysis?\n",
        "  - Pandas makes time series analysis in Python super convenient with built-in tools that handle dates, times, and time-indexed data effortlessly. It's one of the reasons Pandas is so popular for finance, forecasting, and any time-based data work.\n",
        "\n",
        "20. What is the role of a pivot table in Pandas?\n",
        "  - A pivot table in Pandas is a super handy tool used to summarize, group, and rearrange data — similar to pivot tables in Excel.\n",
        "\n",
        "21. Why is NumPy’s array slicing faster than Python’s list slicing?\n",
        "  - NumPy’s array slicing is faster than Python’s list slicing for a few key reasons related to memory efficiency, data structure, and implementation in low-level code.\n",
        "\n",
        "22. What are some common use cases for Seaborn?\n",
        "  - Seaborn is a Python visualization library built on top of Matplotlib, and it's especially designed for statistical data visualization. It shines when you're exploring datasets and want quick, attractive, and insightful plots with minimal code.\n",
        "  Common Use Cases for Seaborn details are given below-\n",
        "       - Visualizing Distributions\n",
        "       - Exploring Relationships Between Variables\n",
        "       - Category Comparisons\n",
        "       - Correlation Analysis (Heatmaps)\n",
        "       - Time Series Plots\n",
        "       - Multivariate Analysis with Pair Plots\n",
        "       - Beautiful Styling and Themes  \n",
        "\n"
      ],
      "metadata": {
        "id": "XfqYcCoISwlF"
      }
    },
    {
      "cell_type": "code",
      "source": [
        "# 1.How do you create a 2D NumPy array and calculate the sum of each row?\n",
        "\n",
        "import numpy as np\n",
        "arr = np.array([\n",
        "    [1, 2, 3, 4],\n",
        "    [5, 6, 7, 8],\n",
        "    [9, 10, 11, 12]\n",
        "])\n",
        "row_sums = np.sum(arr, axis=1)\n",
        "print(\"2D Array:\\n\", arr)\n",
        "print(\"Sum of each row:\", row_sums)"
      ],
      "metadata": {
        "id": "a-iKS885CrKA"
      },
      "execution_count": null,
      "outputs": []
    },
    {
      "cell_type": "code",
      "source": [
        "# 2.Write a Pandas script to find the mean of a specific column in a DataFrame.\n",
        "\n",
        "import pandas as pd\n",
        "data = {\n",
        "    'Name': ['Alice', 'Bob', 'Charlie', 'David'],\n",
        "    'Age': [25, 30, 35, 40],\n",
        "    'Score': [85, 90, 78, 88]\n",
        "}\n",
        "df = pd.DataFrame(data)\n",
        "mean_score = df['Score'].mean()\n",
        "print(\"Mean of 'Score' column:\", mean_score)"
      ],
      "metadata": {
        "id": "N1uunEttF16e"
      },
      "execution_count": null,
      "outputs": []
    },
    {
      "cell_type": "code",
      "source": [
        "# 3.Create a scatter plot using Matplotlib.\n",
        "\n",
        "import matplotlib.pyplot as plt\n",
        "x = [1, 2, 3, 4, 5]\n",
        "y = [2, 4, 6, 8, 10]\n",
        "plt.scatter(x, y, color='blue', marker='o')\n",
        "plt.xlabel('X-axis')\n",
        "plt.ylabel('Y-axis')\n",
        "plt.title('Simple Scatter Plot')\n",
        "plt.show()"
      ],
      "metadata": {
        "id": "BfUMW2t-GRZd"
      },
      "execution_count": null,
      "outputs": []
    },
    {
      "cell_type": "code",
      "source": [
        "# 4.How do you calculate the correlation matrix using Seaborn and visualize it with a heatmap?\n",
        "\n",
        "import pandas as pd\n",
        "import seaborn as sns\n",
        "import matplotlib.pyplot as plt\n",
        "data = {\n",
        "    'A': [1, 2, 3, 4, 5],\n",
        "    'B': [5, 4, 3, 2, 1],\n",
        "    'C': [2, 3, 4, 5, 6],\n",
        "    'D': [1, 3, 5, 7, 9]\n",
        "}\n",
        "df = pd.DataFrame(data)\n",
        "corr_matrix = df.corr()\n",
        "plt.figure(figsize=(8, 6))\n",
        "sns.heatmap(corr_matrix, annot=True, cmap='coolwarm', fmt='.2f', linewidths=0.5)\n",
        "plt.title('Correlation Matrix Heatmap')\n",
        "plt.show()"
      ],
      "metadata": {
        "id": "AkR18TZMGrLN"
      },
      "execution_count": null,
      "outputs": []
    },
    {
      "cell_type": "code",
      "source": [
        "# 5.Generate a bar plot using Plotly.\n",
        "\n",
        "import pandas as pd\n",
        "import plotly.express as px\n",
        "data = {\n",
        "    'Category': ['A', 'B', 'C', 'D'],\n",
        "    'Value': [10, 15, 7, 20]\n",
        "}\n",
        "df = pd.DataFrame(data)\n",
        "fig = px.bar(df, x='Category', y='Value', title=\"Simple Bar Plot\")\n",
        "fig.show()"
      ],
      "metadata": {
        "id": "h0ANhfRGHA0N"
      },
      "execution_count": null,
      "outputs": []
    },
    {
      "cell_type": "code",
      "source": [
        "# 6.A Create a DataFrame and add a new column based on an existing column.\n",
        "\n",
        "import pandas as pd\n",
        "data = {\n",
        "    'Name': ['Alice', 'Bob', 'Charlie', 'David'],\n",
        "    'Age': [25, 30, 35, 40],\n",
        "    'Salary': [50000, 60000, 70000, 80000]\n",
        "}\n",
        "\n",
        "df = pd.DataFrame(data)\n",
        "df['Salary Increase'] = df['Salary'] * 0.10\n",
        "print(df)"
      ],
      "metadata": {
        "id": "jhnYN-6LHact"
      },
      "execution_count": null,
      "outputs": []
    },
    {
      "cell_type": "code",
      "source": [
        "# 7.Write a program to perform element-wise multiplication of two NumPy arrays.\n",
        "\n",
        "import numpy as np\n",
        "array1 = np.array([1, 2, 3, 4])\n",
        "array2 = np.array([5, 6, 7, 8])\n",
        "result = array1 * array2\n",
        "print(\"Array 1:\", array1)\n",
        "print(\"Array 2:\", array2)\n",
        "print(\"Element-wise multiplication result:\", result)"
      ],
      "metadata": {
        "id": "plK02cKmLMBN"
      },
      "execution_count": null,
      "outputs": []
    },
    {
      "cell_type": "code",
      "source": [
        "# 8.Create a line plot with multiple lines using Matplotlib.\n",
        "\n",
        "import matplotlib.pyplot as plt\n",
        "x = [1, 2, 3, 4, 5]\n",
        "y1 = [1, 4, 9, 16, 25]  # First line (y = x^2)\n",
        "y2 = [2, 3, 5, 7, 11]   # Second line (prime numbers)\n",
        "plt.figure(figsize=(8, 6))\n",
        "plt.plot(x, y1, label='y = x^2', color='blue', marker='o')\n",
        "plt.plot(x, y2, label='Primes', color='red', marker='x')\n",
        "plt.xlabel('X-axis')\n",
        "plt.ylabel('Y-axis')\n",
        "plt.title('Line Plot with Multiple Lines')\n",
        "plt.legend()\n",
        "plt.show()"
      ],
      "metadata": {
        "id": "UA98eEpQMJ-8"
      },
      "execution_count": null,
      "outputs": []
    },
    {
      "cell_type": "code",
      "source": [
        "# 9.Generate a Pandas DataFrame and filter rows where a column value is greater than a threshold.\n",
        "\n",
        "import pandas as pd\n",
        "\n",
        "data = {\n",
        "    'Name': ['Anil', 'Barun', 'Samar', 'Animesh', 'Arito'],\n",
        "    'Score': [85, 72, 90, 65, 88]\n",
        "}\n",
        "df = pd.DataFrame(data)\n",
        "filtered_df = df[df['Score'] > 80]\n",
        "print(\"Filtered DataFrame (Score > 80):\\n\", filtered_df)"
      ],
      "metadata": {
        "id": "E2z9qcWxNm60"
      },
      "execution_count": null,
      "outputs": []
    },
    {
      "cell_type": "code",
      "source": [
        "# 10.Create a histogram using Seaborn to visualize a distribution.\n",
        "\n",
        "import seaborn as sns\n",
        "import matplotlib.pyplot as plt\n",
        "import pandas as pd\n",
        "import numpy as np\n",
        "np.random.seed(42)\n",
        "data = np.random.normal(loc=50, scale=10, size=100)\n",
        "df = pd.DataFrame({'Score': data})\n",
        "plt.figure(figsize=(8, 6))\n",
        "sns.histplot(df['Score'], bins=15, kde=True, color='skyblue')\n",
        "plt.xlabel('Score')\n",
        "plt.ylabel('Frequency')\n",
        "plt.title('Distribution of Scores')\n",
        "plt.show()"
      ],
      "metadata": {
        "id": "6_GeqGeJOC4D"
      },
      "execution_count": null,
      "outputs": []
    },
    {
      "cell_type": "code",
      "source": [
        "# 11.Perform matrix multiplication using NumPy.\n",
        "\n",
        "import numpy as np\n",
        "A = np.array([[1, 2],\n",
        "              [3, 4]])\n",
        "B = np.array([[5, 6],\n",
        "              [7, 8]])\n",
        "result1 = A @ B\n",
        "result2 = np.matmul(A, B)\n",
        "print(\"Matrix A:\\n\", A)\n",
        "print(\"Matrix B:\\n\", B)\n",
        "print(\"\\nMatrix Multiplication using @:\\n\", result1)\n",
        "print(\"\\nMatrix Multiplication using np.matmul():\\n\", result2)"
      ],
      "metadata": {
        "id": "jfsee57oZNeg"
      },
      "execution_count": null,
      "outputs": []
    },
    {
      "cell_type": "code",
      "source": [
        "# 12.Use Pandas to load a CSV file and display its first 5 rows.\n",
        "\n",
        "import pandas as pd\n",
        "# Load the CSV file (replace 'your_file.csv' with the actual file path or URL)\n",
        "df = pd.read_csv('your_file.csv')\n",
        "# Display the first 5 rows\n",
        "print(df.head())"
      ],
      "metadata": {
        "id": "AwSBDac_Zjdg"
      },
      "execution_count": null,
      "outputs": []
    },
    {
      "cell_type": "code",
      "source": [
        "# 13.Create a 3D scatter plot using Plotly.\n",
        "\n",
        "import plotly.express as px\n",
        "import pandas as pd\n",
        "import numpy as np\n",
        "np.random.seed(42)\n",
        "df = pd.DataFrame({\n",
        "    'X': np.random.rand(50),\n",
        "    'Y': np.random.rand(50),\n",
        "    'Z': np.random.rand(50),\n",
        "    'Category': np.random.choice(['A', 'B'], size=50)\n",
        "})\n",
        "fig = px.scatter_3d(\n",
        "    df,\n",
        "    x='X',\n",
        "    y='Y',\n",
        "    z='Z',\n",
        "    color='Category',\n",
        "    title=\"3D Scatter Plot\"\n",
        ")\n",
        "fig.show()"
      ],
      "metadata": {
        "id": "LcQCC0sMZ5jo"
      },
      "execution_count": null,
      "outputs": []
    }
  ]
}